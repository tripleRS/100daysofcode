{
 "cells": [
  {
   "cell_type": "markdown",
   "metadata": {},
   "source": [
    "Hallo semua, perkenalkan saya Ramadhani. \n",
    "Pertama-tama, saya harus menegaskan terlebih dahulu bahwa saya disini sebagai pemula.\n",
    "Mungkin banyak diantara kalian yang sama seperti saya, masih tergolong awam dengan ilmu Data Science.\n",
    "Dan pastinya juga diantara kalian banyak yang ilmunya sudah expert di bidang Data Science.\n",
    "\n",
    "Pada section ini, \n",
    "Saya hanya ingin berbagi pengetahuan saya dalam bentuk commit progress belajar. \n",
    "Saya dibimbing oleh kak Hanjara Cahya Adhyatma, pakar DS yang sekarang ini punya program Open Learning by challenge.\n",
    "(for further information, you can all reach him on github.com./mashanz)"
   ]
  },
  {
   "cell_type": "code",
   "execution_count": null,
   "metadata": {},
   "outputs": [],
   "source": []
  },
  {
   "cell_type": "raw",
   "metadata": {},
   "source": [
    "Hallo semua, perkenalkan saya Ramadhani. \n",
    "Pertama-tama, saya harus menegaskan terlebih dahulu bahwa saya disini sebagai pemula.\n",
    "Mungkin banyak diantara kalian yang sama seperti saya, masih tergolong awam dengan ilmu Data Science.\n",
    "Dan pastinya juga diantara kalian banyak yang ilmunya sudah expert di bidang Data Science.\n",
    "\n",
    "Pada section ini, \n",
    "Saya hanya ingin berbagi pengetahuan saya dalam bentuk commit progress belajar. \n",
    "Saya dibimbing oleh kak Hanjara Cahya Adhyatma, pakar DS yang sekarang ini punya program Open Learning by challenge.\n",
    "(for further information, you can all reach him on github.com./mashanz)"
   ]
  }
 ],
 "metadata": {
  "kernelspec": {
   "display_name": "Python 3",
   "language": "python",
   "name": "python3"
  },
  "language_info": {
   "codemirror_mode": {
    "name": "ipython",
    "version": 3
   },
   "file_extension": ".py",
   "mimetype": "text/x-python",
   "name": "python",
   "nbconvert_exporter": "python",
   "pygments_lexer": "ipython3",
   "version": "3.7.4"
  }
 },
 "nbformat": 4,
 "nbformat_minor": 2
}